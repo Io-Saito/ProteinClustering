{
 "cells": [
  {
   "cell_type": "code",
   "execution_count": 1,
   "metadata": {},
   "outputs": [],
   "source": [
    "import pandas as pd\n",
    "from neten.generate_network import NetWorkEnhancement\n",
    "from neten.leidenalg_clustering import LeidenAlg"
   ]
  },
  {
   "cell_type": "code",
   "execution_count": 6,
   "metadata": {},
   "outputs": [],
   "source": [
    "#parameters for Leiden\n",
    "optimization_method = recursive_method = {\n",
    "    'method': 'Surprise',\n",
    "    'partition_type': 'SurpriseVertexPartition',\n",
    "    'weights': True,\n",
    "    'signed': False,\n",
    "    'resolution_parameter': None,\n",
    "    'n_iterations': -1,\n",
    "    'multi_resolution': False \n",
    "}\n",
    "max_size = 100  # Maximum allowable size of a module.\n",
    "\n",
    "#parameters for Network enhancement\n",
    "k = None  # number of neighbors, if NULL then defaults to ceil(20,ncol(data))\n",
    "alpha = 0.9  #regularization parameter\n",
    "diffusion = 2  # diffusion parameter, typical values are 0.5, 1.0, 1.2, 2.0\n"
   ]
  },
  {
   "cell_type": "code",
   "execution_count": 7,
   "metadata": {},
   "outputs": [],
   "source": [
    "datadir = \"./data/\"\n",
    "name = \"swip\"\n",
    "df = pd.read_csv(f\"{datadir}{name}_tmt.csv\")\n"
   ]
  },
  {
   "cell_type": "code",
   "execution_count": 8,
   "metadata": {},
   "outputs": [
    {
     "name": "stdout",
     "output_type": "stream",
     "text": [
      "0 proteins with any missing values are removed.\n"
     ]
    }
   ],
   "source": [
    "# input should be TMT data\n",
    "dm = df.pivot_table(values=\"Abundance\", index=[\n",
    "    \"Protein\"], columns=[\"Mixture\", \"BioFraction\", \"Genotype\"])\n",
    "# drop NA\n",
    "print(f'{dm.isna().sum().sum()} proteins with any missing values are removed.')\n",
    "dm = dm.dropna()\n",
    "# make  pearson correlation matrix\n",
    "corr = dm.T.corr(method=\"pearson\")\n"
   ]
  },
  {
   "cell_type": "code",
   "execution_count": 9,
   "metadata": {},
   "outputs": [
    {
     "name": "stdout",
     "output_type": "stream",
     "text": [
      "saved: ./data/swip_corr.csv\n"
     ]
    }
   ],
   "source": [
    "neten = NetWorkEnhancement(corr,k=None,alpha=alpha,diffusion=diffusion)\n",
    "df_corr = corr.to_csv(f\"{datadir}{name}_corr.csv\")\n",
    "print(f\"saved: {datadir}{name}_corr.csv\")\n"
   ]
  },
  {
   "cell_type": "code",
   "execution_count": 10,
   "metadata": {},
   "outputs": [
    {
     "name": "stdout",
     "output_type": "stream",
     "text": [
      "Generating Network of 5897 proteins...\n",
      "Building dominantset...\n",
      "Building TransitionField...\n",
      "Eigenvalue Decomposing...\n",
      "Calculating weight...\n"
     ]
    }
   ],
   "source": [
    "ne_adjm=neten.Enhance()\n",
    "df_adjm = ne_adjm.to_csv(f\"{datadir}{name}_adjm.csv\")\n",
    "print(f\"saved: {datadir}{name}_adjm.csv\")\n"
   ]
  },
  {
   "cell_type": "code",
   "execution_count": null,
   "metadata": {},
   "outputs": [],
   "source": [
    "Leiden = LeidenAlg(parameters=optimization_method, recursive=True,\n",
    "                   recursive_parameters=recursive_method, max_size=max_size)\n",
    "community = Leiden.Run(df_adjm)\n",
    "community.to_csv(f\"{datadir}{name}_partition.csv\")\n",
    "print(f\"saved: {datadir}{name}_partition.csv\")\n"
   ]
  },
  {
   "cell_type": "code",
   "execution_count": null,
   "metadata": {},
   "outputs": [],
   "source": [
    "postprocessed = Leiden.postprocess()\n",
    "postprocessed.to_csv(f\"{datadir}{name}_postprocessed.csv\")\n",
    "print(f\"saved: {datadir}{name}_postprocessed.csv\")"
   ]
  }
 ],
 "metadata": {
  "kernelspec": {
   "display_name": "base",
   "language": "python",
   "name": "python3"
  },
  "language_info": {
   "codemirror_mode": {
    "name": "ipython",
    "version": 3
   },
   "file_extension": ".py",
   "mimetype": "text/x-python",
   "name": "python",
   "nbconvert_exporter": "python",
   "pygments_lexer": "ipython3",
   "version": "3.7.6"
  },
  "orig_nbformat": 4,
  "vscode": {
   "interpreter": {
    "hash": "40d3a090f54c6569ab1632332b64b2c03c39dcf918b08424e98f38b5ae0af88f"
   }
  }
 },
 "nbformat": 4,
 "nbformat_minor": 2
}
